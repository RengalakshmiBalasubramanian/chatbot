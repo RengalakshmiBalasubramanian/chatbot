{
 "cells": [
  {
   "cell_type": "markdown",
   "metadata": {},
   "source": [
    "# LS Chatbot Application\n",
    "\n"
   ]
  },
  {
   "cell_type": "markdown",
   "metadata": {},
   "source": [
    "## LSbot I"
   ]
  },
  {
   "cell_type": "code",
   "execution_count": 2,
   "metadata": {},
   "outputs": [
    {
     "name": "stdout",
     "output_type": "stream",
     "text": [
      "I can hear you! You said: hello!\n"
     ]
    }
   ],
   "source": [
    "bot_template = \"LS BOT : {0}\"\n",
    "user_template = \"CUSTOMER : {0}\"\n",
    "# Define a function that responds to a user's message: respond\n",
    "def respond(message):\n",
    "    # Concatenate the user's message to the end of a standard bot respone\n",
    "    bot_message = \"I can hear you! You said: \" + message\n",
    "    # Return the result\n",
    "    return bot_message\n",
    "# Test function\n",
    "print(respond(\"hello!\"))"
   ]
  },
  {
   "cell_type": "markdown",
   "metadata": {},
   "source": [
    "## LSbot II"
   ]
  },
  {
   "cell_type": "code",
   "execution_count": 3,
   "metadata": {},
   "outputs": [
    {
     "name": "stdout",
     "output_type": "stream",
     "text": [
      "CUSTOMER : hello\n",
      "LS BOT : I can hear you! You said: hello\n"
     ]
    }
   ],
   "source": [
    "# Define a function that sends a message to the bot: send_message\n",
    "def send_message(message):\n",
    "    # Print user_template including the user_message\n",
    "    print(user_template.format(message))\n",
    "    # Get the bot's response to the message\n",
    "    response = respond(message)\n",
    "    # Print the bot template including the bot's response.\n",
    "    print(bot_template.format(response))\n",
    "    # Send a message to the bot\n",
    "send_message(\"hello\")"
   ]
  },
  {
   "cell_type": "markdown",
   "metadata": {},
   "source": [
    "## Chatbot can answer a basic conversation"
   ]
  },
  {
   "cell_type": "code",
   "execution_count": 4,
   "metadata": {},
   "outputs": [],
   "source": [
    "# Define variables\n",
    "name = \"LS Virtual Assistant\"\n",
    "weather = \"rainy in New York\"\n",
    "\n",
    "# Define a dictionary with the predefined responses\n",
    "responses = {\n",
    "  \"what's your name?\": \"My name is {0}\".format(name),\n",
    "  \"what's today's weather?\": \"The weather is {0}\".format(weather),\n",
    "  \"default\": \"Sorry! I am not quite get it. Can you say it again?\"\n",
    "}\n",
    "\n",
    "# Return the matching response if there is one, default otherwise\n",
    "def respond(message):\n",
    "    # Check if the message is in the responses\n",
    "    if message in responses:\n",
    "        # Return the matching message\n",
    "        bot_message = responses[message]\n",
    "    else:\n",
    "        # Return the \"default\" message\n",
    "        bot_message = responses[\"default\"]\n",
    "    return bot_message"
   ]
  },
  {
   "cell_type": "code",
   "execution_count": null,
   "metadata": {},
   "outputs": [],
   "source": [
    "# Run send_message() to see the answer\n",
    "send_message(\"what's your name?\")\n",
    "send_message(\"what's today's weather?\")\n",
    "send_message(\"what's your favorite color?\")"
   ]
  },
  {
   "cell_type": "markdown",
   "metadata": {},
   "source": [
    "## Chatbot has multiple answers"
   ]
  },
  {
   "cell_type": "code",
   "execution_count": 5,
   "metadata": {},
   "outputs": [],
   "source": [
    "# Import the random module\n",
    "import random\n",
    "\n",
    "# Define a dictionary containing a list of responses for each message\n",
    "responses = {\n",
    "  \"what's your name?\": [\n",
    "      \"my name is {0}\".format(name),\n",
    "      \"they call me {0}\".format(name),\n",
    "      \"I go by {0}\".format(name)\n",
    "   ],\n",
    "  \"what's today's weather?\": [\n",
    "      \"the weather is {0}\".format(weather),\n",
    "      \"it's {0} today\".format(weather)\n",
    "    ],\n",
    "  \"default\": [\"default message\"]\n",
    "}\n",
    "\n",
    "# Use random.choice() to choose a matching response\n",
    "def respond(message):\n",
    "    if message in responses:\n",
    "        bot_message = random.choice(responses[message])\n",
    "    else:\n",
    "        bot_message = random.choice(responses[\"default\"])\n",
    "    return bot_message"
   ]
  },
  {
   "cell_type": "code",
   "execution_count": 6,
   "metadata": {},
   "outputs": [
    {
     "name": "stdout",
     "output_type": "stream",
     "text": [
      "CUSTOMER : what's your name?\n",
      "LS BOT : they call me LS Virtual Assistant\n"
     ]
    }
   ],
   "source": [
    "send_message(\"what's your name?\")"
   ]
  },
  {
   "cell_type": "code",
   "execution_count": 7,
   "metadata": {},
   "outputs": [
    {
     "name": "stdout",
     "output_type": "stream",
     "text": [
      "CUSTOMER : what's your name?\n",
      "LS BOT : they call me LS Virtual Assistant\n"
     ]
    }
   ],
   "source": [
    "send_message(\"what's your name?\")"
   ]
  },
  {
   "cell_type": "code",
   "execution_count": 8,
   "metadata": {},
   "outputs": [
    {
     "name": "stdout",
     "output_type": "stream",
     "text": [
      "CUSTOMER : what's your name?\n",
      "LS BOT : my name is LS Virtual Assistant\n"
     ]
    }
   ],
   "source": [
    "send_message(\"what's your name?\")"
   ]
  },
  {
   "cell_type": "markdown",
   "metadata": {},
   "source": [
    "# Simple Version"
   ]
  },
  {
   "cell_type": "code",
   "execution_count": 9,
   "metadata": {},
   "outputs": [],
   "source": [
    "import nltk\n",
    "from nltk.chat.util import Chat, reflections"
   ]
  },
  {
   "cell_type": "code",
   "execution_count": 10,
   "metadata": {},
   "outputs": [
    {
     "name": "stdout",
     "output_type": "stream",
     "text": [
      "<class 'nltk.chat.util.Chat'>\n"
     ]
    },
    {
     "data": {
      "text/plain": [
       "{'i am': 'you are',\n",
       " 'i was': 'you were',\n",
       " 'i': 'you',\n",
       " \"i'm\": 'you are',\n",
       " \"i'd\": 'you would',\n",
       " \"i've\": 'you have',\n",
       " \"i'll\": 'you will',\n",
       " 'my': 'your',\n",
       " 'you are': 'I am',\n",
       " 'you were': 'I was',\n",
       " \"you've\": 'I have',\n",
       " \"you'll\": 'I will',\n",
       " 'your': 'my',\n",
       " 'yours': 'mine',\n",
       " 'you': 'me',\n",
       " 'me': 'you'}"
      ]
     },
     "execution_count": 10,
     "metadata": {},
     "output_type": "execute_result"
    }
   ],
   "source": [
    "print(Chat)\n",
    "reflections"
   ]
  },
  {
   "cell_type": "code",
   "execution_count": 11,
   "metadata": {},
   "outputs": [],
   "source": [
    "#Set up database\n",
    "set_pairs = [\n",
    "    [\n",
    "        r\"my name is (.*)\",\n",
    "        [\"Hello %1, How are you doing today ?\",]\n",
    "    ],\n",
    "    [\n",
    "        r\"hi|hey|hello\",\n",
    "        [\"Hello\", \"Hey there\",]\n",
    "    ], \n",
    "    [\n",
    "        r\"what is your name?\",\n",
    "        [\"You can call me a chatbot ?\",]\n",
    "    ],\n",
    "    [\n",
    "        r\"how are you ?\",\n",
    "        [\"I am fine, thank you! How can i help you?\",]\n",
    "    ],\n",
    "    [\n",
    "        r\"I am fine, thank you\",\n",
    "        [\"great to hear that, how can i help you?\",]\n",
    "    ],\n",
    "    [\n",
    "        r\"how can i help you? \",\n",
    "        [\"i am looking for online guides and courses to learn data science, can you suggest?\", \"i am looking for data science training platforms\",]\n",
    "    ],\n",
    "    [\n",
    "        r\"i'm (.*) doing good\",\n",
    "        [\"That's great to hear\",\"How can i help you?:)\",]\n",
    "    ],\n",
    "    [\n",
    "        r\"i am looking for price as well quotation for MCCB , can you suggest?\",\n",
    "        [\"I will connect you to the right person\",]\n",
    "    ],\n",
    "    [\n",
    "        r\"thanks for the suggestion\",\n",
    "        [\"Yes, they have the world class best authors, that is their strength;)\",]\n",
    "    ],\n",
    "    [\n",
    "        r\"(.*) thank you so much, that was helpful\",\n",
    "        [\"Iam happy to help\", \"No problem, you're welcome\",]\n",
    "    ],\n",
    "    [\n",
    "        r\"quit\",\n",
    "    [\"Bye, take care. See you soon :) \",\"It was nice talking to you. See you soon :)\"]\n",
    "    ],\n",
    "    ]"
   ]
  },
  {
   "cell_type": "code",
   "execution_count": 12,
   "metadata": {},
   "outputs": [
    {
     "name": "stdout",
     "output_type": "stream",
     "text": [
      "Hi, I'm the chatbot you built\n"
     ]
    }
   ],
   "source": [
    "def chatbot():\n",
    "        print(\"Hi, I'm the chatbot you built\") \n",
    "chatbot()"
   ]
  },
  {
   "cell_type": "code",
   "execution_count": 13,
   "metadata": {},
   "outputs": [
    {
     "name": "stdout",
     "output_type": "stream",
     "text": [
      "<nltk.chat.util.Chat object at 0x0000020A5F61F040>\n"
     ]
    }
   ],
   "source": [
    "chat = Chat(set_pairs, reflections)\n",
    "print(chat)"
   ]
  },
  {
   "cell_type": "code",
   "execution_count": 14,
   "metadata": {},
   "outputs": [
    {
     "name": "stdout",
     "output_type": "stream",
     "text": [
      ">hi\n",
      "Hello\n",
      ">exit\n",
      "None\n",
      ">quit\n",
      "It was nice talking to you. See you soon :)\n",
      "Hi, I'm the chatbot you built\n"
     ]
    }
   ],
   "source": [
    "chat.converse()\n",
    "if __name__ == \"__main__\":\n",
    "    chatbot()"
   ]
  },
  {
   "cell_type": "markdown",
   "metadata": {},
   "source": [
    "# Complete Chatbot with Interface"
   ]
  },
  {
   "cell_type": "markdown",
   "metadata": {},
   "source": [
    "## Step 1: Import and load the data file"
   ]
  },
  {
   "cell_type": "code",
   "execution_count": 15,
   "metadata": {},
   "outputs": [],
   "source": [
    "#!pip install keras"
   ]
  },
  {
   "cell_type": "code",
   "execution_count": 16,
   "metadata": {},
   "outputs": [],
   "source": [
    "import numpy\n",
    "from keras.optimizers import SGD\n"
   ]
  },
  {
   "cell_type": "code",
   "execution_count": 17,
   "metadata": {},
   "outputs": [],
   "source": [
    "#!pip install tensorflow"
   ]
  },
  {
   "cell_type": "code",
   "execution_count": 18,
   "metadata": {},
   "outputs": [],
   "source": [
    "import nltk\n",
    "from nltk.stem import WordNetLemmatizer\n",
    "lemmatizer = WordNetLemmatizer()\n",
    "import json\n",
    "import _pickle as cPickle\n",
    "\n",
    "import numpy as np\n",
    "from keras.models import Sequential\n",
    "from keras.layers import Dense, Activation, Dropout\n",
    "from keras.optimizers import SGD\n",
    "import random\n",
    "\n",
    "words=[]\n",
    "classes = []\n",
    "documents = []\n",
    "ignore_words = ['?', '!']\n",
    "data_file = open('intents.json').read()\n",
    "intents = json.loads(data_file)"
   ]
  },
  {
   "cell_type": "markdown",
   "metadata": {},
   "source": [
    "## Step 2: Preprocess data"
   ]
  },
  {
   "cell_type": "code",
   "execution_count": 19,
   "metadata": {},
   "outputs": [],
   "source": [
    "import nltk\n",
    "#nltk.download('punkt')"
   ]
  },
  {
   "cell_type": "code",
   "execution_count": 20,
   "metadata": {},
   "outputs": [],
   "source": [
    "for intent in intents['intents']:\n",
    "    for pattern in intent['patterns']:\n",
    "        \n",
    "        #tokenize each word\n",
    "        w = nltk.word_tokenize(pattern)\n",
    "        words.extend(w)\n",
    "        #add documents in the corpus\n",
    "        documents.append((w, intent['tag']))\n",
    "        \n",
    "        # add to our classes list\n",
    "        if intent['tag'] not in classes:\n",
    "            classes.append(intent['tag'])"
   ]
  },
  {
   "cell_type": "code",
   "execution_count": 21,
   "metadata": {},
   "outputs": [
    {
     "name": "stdout",
     "output_type": "stream",
     "text": [
      "47 documents\n",
      "9 classes ['adverse_drug', 'blood_pressure', 'blood_pressure_search', 'goodbye', 'greeting', 'hospital_search', 'options', 'pharmacy_search', 'thanks']\n",
      "88 unique lemmatized words [\"'s\", ',', 'a', 'adverse', 'all', 'anyone', 'are', 'awesome', 'be', 'behavior', 'blood', 'by', 'bye', 'can', 'causing', 'chatting', 'check', 'could', 'data', 'day', 'detail', 'do', 'dont', 'drug', 'entry', 'find', 'for', 'give', 'good', 'goodbye', 'have', 'hello', 'help', 'helpful', 'helping', 'hey', 'hi', 'history', 'hola', 'hospital', 'how', 'i', 'id', 'is', 'later', 'list', 'load', 'locate', 'log', 'looking', 'lookup', 'management', 'me', 'module', 'nearby', 'next', 'nice', 'of', 'offered', 'open', 'patient', 'pharmacy', 'pressure', 'provide', 'reaction', 'related', 'result', 'search', 'searching', 'see', 'show', 'suitable', 'support', 'task', 'thank', 'thanks', 'that', 'there', 'till', 'time', 'to', 'transfer', 'up', 'want', 'what', 'which', 'with', 'you']\n"
     ]
    }
   ],
   "source": [
    "# lemmatize, lower each word and remove duplicates\n",
    "words = [lemmatizer.lemmatize(w.lower()) for w in words if w not in ignore_words]\n",
    "words = sorted(list(set(words)))\n",
    "# sort classes\n",
    "classes = sorted(list(set(classes)))\n",
    "# documents = combination between patterns and intents\n",
    "print (len(documents), \"documents\")\n",
    "# classes = intents\n",
    "print (len(classes), \"classes\", classes)\n",
    "# words = all words, vocabulary\n",
    "print (len(words), \"unique lemmatized words\", words)\n",
    "\n",
    "cPickle.dump(words,open('words.pkl','wb'))\n",
    "cPickle.dump(classes,open('classes.pkl','wb'))"
   ]
  },
  {
   "cell_type": "markdown",
   "metadata": {},
   "source": [
    "## Step 3:  Create training and testing data"
   ]
  },
  {
   "cell_type": "code",
   "execution_count": 22,
   "metadata": {},
   "outputs": [
    {
     "name": "stdout",
     "output_type": "stream",
     "text": [
      "Training data created\n"
     ]
    },
    {
     "name": "stderr",
     "output_type": "stream",
     "text": [
      "<ipython-input-22-30b1db7bd9d4>:23: VisibleDeprecationWarning: Creating an ndarray from ragged nested sequences (which is a list-or-tuple of lists-or-tuples-or ndarrays with different lengths or shapes) is deprecated. If you meant to do this, you must specify 'dtype=object' when creating the ndarray\n",
      "  training = np.array(training)\n"
     ]
    }
   ],
   "source": [
    "# create our training data\n",
    "training = []\n",
    "# create an empty array for our output\n",
    "output_empty = [0] * len(classes)\n",
    "# training set, bag of words for each sentence\n",
    "for doc in documents:\n",
    "    # initialize our bag of words\n",
    "    bag = []\n",
    "    # list of tokenized words for the pattern\n",
    "    pattern_words = doc[0]\n",
    "    # lemmatize each word - create base word, in attempt to represent related words\n",
    "    pattern_words = [lemmatizer.lemmatize(word.lower()) for word in pattern_words]\n",
    "    # create our bag of words array with 1, if word match found in current pattern\n",
    "    for w in words:\n",
    "        bag.append(1) if w in pattern_words else bag.append(0)\n",
    "        # output is a '0' for each tag and '1' for current tag (for each pattern)\n",
    "        output_row = list(output_empty)\n",
    "        output_row[classes.index(doc[1])] = 1\n",
    "        training.append([bag, output_row])\n",
    "    \n",
    "# shuffle our features and turn into np.array\n",
    "random.shuffle(training)\n",
    "training = np.array(training)\n",
    "# create train and test lists. X - patterns, Y - intents\n",
    "train_x = list(training[:,0])\n",
    "train_y = list(training[:,1])\n",
    "print(\"Training data created\")"
   ]
  },
  {
   "cell_type": "markdown",
   "metadata": {},
   "source": [
    "## Step 4: Build the model"
   ]
  },
  {
   "cell_type": "code",
   "execution_count": null,
   "metadata": {},
   "outputs": [
    {
     "name": "stdout",
     "output_type": "stream",
     "text": [
      "Epoch 1/200\n",
      "828/828 [==============================] - 1s 1ms/step - loss: 0.4314 - accuracy: 0.8738\n",
      "Epoch 2/200\n",
      "828/828 [==============================] - 1s 1ms/step - loss: 0.0330 - accuracy: 0.9927\n",
      "Epoch 3/200\n",
      "828/828 [==============================] - 1s 1ms/step - loss: 0.0181 - accuracy: 0.9966\n",
      "Epoch 4/200\n",
      "828/828 [==============================] - 1s 1ms/step - loss: 0.0131 - accuracy: 0.9969\n",
      "Epoch 5/200\n",
      "828/828 [==============================] - 1s 1ms/step - loss: 0.0105 - accuracy: 0.9978\n",
      "Epoch 6/200\n",
      "828/828 [==============================] - 1s 1ms/step - loss: 0.0078 - accuracy: 0.9985\n",
      "Epoch 7/200\n",
      "828/828 [==============================] - 1s 1ms/step - loss: 0.0081 - accuracy: 0.9983\n",
      "Epoch 8/200\n",
      "828/828 [==============================] - 1s 1ms/step - loss: 0.0060 - accuracy: 0.9985\n",
      "Epoch 9/200\n",
      "828/828 [==============================] - 1s 1ms/step - loss: 0.0032 - accuracy: 0.9993\n",
      "Epoch 10/200\n",
      "828/828 [==============================] - 1s 1ms/step - loss: 0.0044 - accuracy: 0.9995\n",
      "Epoch 11/200\n",
      "828/828 [==============================] - 1s 1ms/step - loss: 0.0052 - accuracy: 0.9988\n",
      "Epoch 12/200\n",
      "828/828 [==============================] - 1s 1ms/step - loss: 0.0032 - accuracy: 0.9993\n",
      "Epoch 13/200\n",
      "828/828 [==============================] - 1s 1ms/step - loss: 0.0028 - accuracy: 0.9995\n",
      "Epoch 14/200\n",
      "828/828 [==============================] - 1s 1ms/step - loss: 0.0032 - accuracy: 0.9993\n",
      "Epoch 15/200\n",
      "828/828 [==============================] - 1s 1ms/step - loss: 0.0025 - accuracy: 0.9998\n",
      "Epoch 16/200\n",
      "828/828 [==============================] - 1s 1ms/step - loss: 0.0028 - accuracy: 0.9995\n",
      "Epoch 17/200\n",
      "828/828 [==============================] - 1s 1ms/step - loss: 0.0032 - accuracy: 0.9995\n",
      "Epoch 18/200\n",
      "828/828 [==============================] - 1s 1ms/step - loss: 0.0042 - accuracy: 0.9983\n",
      "Epoch 19/200\n",
      "828/828 [==============================] - 1s 1ms/step - loss: 0.0014 - accuracy: 1.0000\n",
      "Epoch 20/200\n",
      "828/828 [==============================] - 1s 1ms/step - loss: 0.0045 - accuracy: 0.9985\n",
      "Epoch 21/200\n",
      "828/828 [==============================] - 1s 1ms/step - loss: 0.0023 - accuracy: 0.9993\n",
      "Epoch 22/200\n",
      "828/828 [==============================] - 1s 1ms/step - loss: 0.0023 - accuracy: 0.9995: 0s - loss:\n",
      "Epoch 23/200\n",
      "828/828 [==============================] - 1s 1ms/step - loss: 0.0040 - accuracy: 0.9988\n",
      "Epoch 24/200\n",
      "828/828 [==============================] - 1s 1ms/step - loss: 0.0017 - accuracy: 0.9995\n",
      "Epoch 25/200\n",
      "828/828 [==============================] - 1s 1ms/step - loss: 0.0021 - accuracy: 0.9995\n",
      "Epoch 26/200\n",
      "828/828 [==============================] - 1s 1ms/step - loss: 0.0024 - accuracy: 0.9995\n",
      "Epoch 27/200\n",
      "828/828 [==============================] - 1s 1ms/step - loss: 0.0036 - accuracy: 0.9990\n",
      "Epoch 28/200\n",
      "828/828 [==============================] - 1s 2ms/step - loss: 0.0039 - accuracy: 0.9990\n",
      "Epoch 29/200\n",
      "828/828 [==============================] - 1s 1ms/step - loss: 0.0018 - accuracy: 0.9995\n",
      "Epoch 30/200\n",
      "828/828 [==============================] - 1s 1ms/step - loss: 0.0028 - accuracy: 0.9993 E\n",
      "Epoch 31/200\n",
      "828/828 [==============================] - 1s 1ms/step - loss: 0.0015 - accuracy: 1.0000\n",
      "Epoch 32/200\n",
      "828/828 [==============================] - 1s 1ms/step - loss: 0.0018 - accuracy: 0.9995\n",
      "Epoch 33/200\n",
      "828/828 [==============================] - 1s 1ms/step - loss: 0.0014 - accuracy: 1.0000\n",
      "Epoch 34/200\n",
      "828/828 [==============================] - 1s 1ms/step - loss: 0.0023 - accuracy: 0.9993\n",
      "Epoch 35/200\n",
      "828/828 [==============================] - 1s 1ms/step - loss: 0.0013 - accuracy: 0.9998\n",
      "Epoch 36/200\n",
      "828/828 [==============================] - 1s 1ms/step - loss: 0.0015 - accuracy: 0.9998\n",
      "Epoch 37/200\n",
      "828/828 [==============================] - 1s 1ms/step - loss: 0.0016 - accuracy: 0.9995\n",
      "Epoch 38/200\n",
      "828/828 [==============================] - 1s 1ms/step - loss: 9.1205e-04 - accuracy: 1.0000\n",
      "Epoch 39/200\n",
      "828/828 [==============================] - 1s 1ms/step - loss: 0.0012 - accuracy: 1.0000\n",
      "Epoch 40/200\n",
      "828/828 [==============================] - 1s 1ms/step - loss: 0.0014 - accuracy: 0.9998\n",
      "Epoch 41/200\n",
      "828/828 [==============================] - 1s 1ms/step - loss: 0.0017 - accuracy: 0.9998\n",
      "Epoch 42/200\n",
      "828/828 [==============================] - 1s 1ms/step - loss: 0.0011 - accuracy: 0.9998\n",
      "Epoch 43/200\n",
      "828/828 [==============================] - 1s 1ms/step - loss: 0.0011 - accuracy: 0.9995\n",
      "Epoch 44/200\n",
      "828/828 [==============================] - 1s 1ms/step - loss: 7.1411e-04 - accuracy: 0.9998\n",
      "Epoch 45/200\n",
      "828/828 [==============================] - 1s 1ms/step - loss: 0.0022 - accuracy: 0.9995\n",
      "Epoch 46/200\n",
      "828/828 [==============================] - 1s 1ms/step - loss: 0.0011 - accuracy: 0.9998\n",
      "Epoch 47/200\n",
      "828/828 [==============================] - 1s 1ms/step - loss: 0.0019 - accuracy: 0.9993\n",
      "Epoch 48/200\n",
      "828/828 [==============================] - 1s 1ms/step - loss: 0.0020 - accuracy: 0.9995\n",
      "Epoch 49/200\n",
      "828/828 [==============================] - 1s 1ms/step - loss: 9.8248e-04 - accuracy: 0.9998\n",
      "Epoch 50/200\n",
      "828/828 [==============================] - 1s 1ms/step - loss: 9.9870e-04 - accuracy: 0.9995\n",
      "Epoch 51/200\n",
      "828/828 [==============================] - 1s 1ms/step - loss: 0.0013 - accuracy: 0.9998\n",
      "Epoch 52/200\n",
      "828/828 [==============================] - 1s 1ms/step - loss: 0.0010 - accuracy: 0.9998\n",
      "Epoch 53/200\n",
      "828/828 [==============================] - 1s 1ms/step - loss: 6.8636e-04 - accuracy: 1.0000\n",
      "Epoch 54/200\n",
      "828/828 [==============================] - 1s 1ms/step - loss: 6.8240e-04 - accuracy: 1.0000\n",
      "Epoch 55/200\n",
      "828/828 [==============================] - 1s 1ms/step - loss: 0.0016 - accuracy: 0.9995\n",
      "Epoch 56/200\n",
      "828/828 [==============================] - 1s 2ms/step - loss: 0.0011 - accuracy: 0.9998\n",
      "Epoch 57/200\n",
      "828/828 [==============================] - 1s 1ms/step - loss: 0.0013 - accuracy: 0.9995\n",
      "Epoch 58/200\n",
      "828/828 [==============================] - 1s 1ms/step - loss: 0.0022 - accuracy: 0.9990\n",
      "Epoch 59/200\n",
      "828/828 [==============================] - 1s 1ms/step - loss: 0.0019 - accuracy: 0.9998\n",
      "Epoch 60/200\n",
      "828/828 [==============================] - 1s 2ms/step - loss: 6.8503e-04 - accuracy: 1.0000\n",
      "Epoch 61/200\n",
      "828/828 [==============================] - 1s 2ms/step - loss: 0.0035 - accuracy: 0.9990\n",
      "Epoch 62/200\n",
      "828/828 [==============================] - 1s 2ms/step - loss: 0.0010 - accuracy: 1.0000\n",
      "Epoch 63/200\n",
      "828/828 [==============================] - 1s 1ms/step - loss: 7.8487e-04 - accuracy: 0.9998\n",
      "Epoch 64/200\n",
      "828/828 [==============================] - 1s 1ms/step - loss: 0.0010 - accuracy: 0.9998\n",
      "Epoch 65/200\n",
      "828/828 [==============================] - 1s 2ms/step - loss: 0.0022 - accuracy: 0.9998\n",
      "Epoch 66/200\n",
      "828/828 [==============================] - 1s 1ms/step - loss: 0.0010 - accuracy: 0.9998\n",
      "Epoch 67/200\n",
      "828/828 [==============================] - 1s 1ms/step - loss: 0.0015 - accuracy: 0.9995\n",
      "Epoch 68/200\n",
      "828/828 [==============================] - 1s 1ms/step - loss: 7.9940e-04 - accuracy: 0.9998\n",
      "Epoch 69/200\n",
      "828/828 [==============================] - 1s 1ms/step - loss: 0.0018 - accuracy: 0.9995\n",
      "Epoch 70/200\n",
      "828/828 [==============================] - 1s 1ms/step - loss: 9.1202e-04 - accuracy: 0.9998\n",
      "Epoch 71/200\n",
      "828/828 [==============================] - 1s 1ms/step - loss: 0.0012 - accuracy: 0.9995\n",
      "Epoch 72/200\n",
      "828/828 [==============================] - 1s 1ms/step - loss: 4.4881e-04 - accuracy: 1.0000\n",
      "Epoch 73/200\n",
      "828/828 [==============================] - 1s 1ms/step - loss: 8.1338e-04 - accuracy: 0.9998\n",
      "Epoch 74/200\n",
      "828/828 [==============================] - 1s 1ms/step - loss: 4.4914e-04 - accuracy: 1.0000: \n",
      "Epoch 75/200\n",
      "828/828 [==============================] - 1s 1ms/step - loss: 0.0013 - accuracy: 0.9995\n",
      "Epoch 76/200\n",
      "828/828 [==============================] - 1s 1ms/step - loss: 0.0016 - accuracy: 0.9995\n",
      "Epoch 77/200\n",
      "828/828 [==============================] - 1s 1ms/step - loss: 6.0972e-04 - accuracy: 1.0000\n",
      "Epoch 78/200\n",
      "828/828 [==============================] - 1s 1ms/step - loss: 0.0011 - accuracy: 0.9998\n",
      "Epoch 79/200\n",
      "828/828 [==============================] - 1s 1ms/step - loss: 3.2896e-04 - accuracy: 1.0000\n",
      "Epoch 80/200\n"
     ]
    },
    {
     "name": "stdout",
     "output_type": "stream",
     "text": [
      "828/828 [==============================] - 1s 1ms/step - loss: 2.8002e-04 - accuracy: 1.0000\n",
      "Epoch 81/200\n",
      "828/828 [==============================] - 1s 1ms/step - loss: 8.9158e-04 - accuracy: 0.9995\n",
      "Epoch 82/200\n",
      "828/828 [==============================] - 1s 1ms/step - loss: 7.6624e-04 - accuracy: 0.9998\n",
      "Epoch 83/200\n",
      "828/828 [==============================] - 1s 1ms/step - loss: 9.1234e-04 - accuracy: 0.9998\n",
      "Epoch 84/200\n",
      "828/828 [==============================] - 1s 1ms/step - loss: 6.2451e-04 - accuracy: 0.9998\n",
      "Epoch 85/200\n",
      "828/828 [==============================] - 1s 1ms/step - loss: 3.6903e-04 - accuracy: 1.0000\n",
      "Epoch 86/200\n",
      "828/828 [==============================] - 1s 1ms/step - loss: 4.6209e-04 - accuracy: 1.0000\n",
      "Epoch 87/200\n",
      "828/828 [==============================] - 1s 1ms/step - loss: 9.9568e-04 - accuracy: 0.9998\n",
      "Epoch 88/200\n",
      "828/828 [==============================] - 1s 1ms/step - loss: 7.5007e-04 - accuracy: 0.9998\n",
      "Epoch 89/200\n",
      "828/828 [==============================] - 1s 1ms/step - loss: 7.8066e-04 - accuracy: 0.9995\n",
      "Epoch 90/200\n",
      "828/828 [==============================] - 1s 1ms/step - loss: 7.6321e-04 - accuracy: 0.9998\n",
      "Epoch 91/200\n",
      "828/828 [==============================] - 1s 1ms/step - loss: 4.3522e-04 - accuracy: 1.0000\n",
      "Epoch 92/200\n",
      "828/828 [==============================] - 1s 1ms/step - loss: 3.5243e-04 - accuracy: 1.0000\n",
      "Epoch 93/200\n",
      "828/828 [==============================] - 1s 1ms/step - loss: 8.0711e-04 - accuracy: 0.9998\n",
      "Epoch 94/200\n",
      "828/828 [==============================] - 1s 1ms/step - loss: 7.3228e-04 - accuracy: 1.0000\n",
      "Epoch 95/200\n",
      "828/828 [==============================] - 1s 1ms/step - loss: 3.8497e-04 - accuracy: 1.0000\n",
      "Epoch 96/200\n",
      "828/828 [==============================] - 1s 1ms/step - loss: 4.9426e-04 - accuracy: 0.9998\n",
      "Epoch 97/200\n",
      "828/828 [==============================] - 1s 1ms/step - loss: 4.6338e-04 - accuracy: 0.9998\n",
      "Epoch 98/200\n",
      "828/828 [==============================] - 1s 1ms/step - loss: 9.7783e-04 - accuracy: 0.9995\n",
      "Epoch 99/200\n",
      "828/828 [==============================] - 1s 1ms/step - loss: 0.0010 - accuracy: 0.9998\n",
      "Epoch 100/200\n",
      "828/828 [==============================] - 1s 1ms/step - loss: 3.1203e-04 - accuracy: 1.0000\n",
      "Epoch 101/200\n",
      "828/828 [==============================] - 1s 1ms/step - loss: 8.3106e-04 - accuracy: 1.0000\n",
      "Epoch 102/200\n",
      "828/828 [==============================] - 1s 1ms/step - loss: 5.0291e-04 - accuracy: 0.9998\n",
      "Epoch 103/200\n",
      "828/828 [==============================] - 1s 1ms/step - loss: 6.7139e-04 - accuracy: 0.9998\n",
      "Epoch 104/200\n",
      "828/828 [==============================] - 1s 1ms/step - loss: 2.1600e-04 - accuracy: 1.0000\n",
      "Epoch 105/200\n",
      "828/828 [==============================] - 1s 1ms/step - loss: 4.3186e-04 - accuracy: 1.0000\n",
      "Epoch 106/200\n",
      "828/828 [==============================] - 1s 1ms/step - loss: 5.1327e-04 - accuracy: 0.9998\n",
      "Epoch 107/200\n",
      "828/828 [==============================] - 1s 1ms/step - loss: 3.3662e-04 - accuracy: 1.0000\n",
      "Epoch 108/200\n",
      "828/828 [==============================] - 1s 1ms/step - loss: 1.3523e-04 - accuracy: 1.0000\n",
      "Epoch 109/200\n",
      "828/828 [==============================] - 1s 1ms/step - loss: 7.3215e-04 - accuracy: 0.9998\n",
      "Epoch 110/200\n",
      "828/828 [==============================] - 1s 1ms/step - loss: 0.0021 - accuracy: 0.9990\n",
      "Epoch 111/200\n",
      "828/828 [==============================] - 1s 1ms/step - loss: 5.3433e-04 - accuracy: 0.9998\n",
      "Epoch 112/200\n",
      "828/828 [==============================] - 1s 1ms/step - loss: 4.5113e-04 - accuracy: 1.0000\n",
      "Epoch 113/200\n",
      "828/828 [==============================] - 1s 1ms/step - loss: 8.8512e-04 - accuracy: 0.9995\n",
      "Epoch 114/200\n",
      "828/828 [==============================] - 1s 1ms/step - loss: 5.8789e-04 - accuracy: 0.9998\n",
      "Epoch 115/200\n",
      "828/828 [==============================] - 1s 1ms/step - loss: 6.3099e-04 - accuracy: 1.0000\n",
      "Epoch 116/200\n",
      "828/828 [==============================] - 1s 1ms/step - loss: 0.0013 - accuracy: 0.9995\n",
      "Epoch 117/200\n",
      "828/828 [==============================] - 1s 1ms/step - loss: 0.0012 - accuracy: 0.9998\n",
      "Epoch 118/200\n",
      "828/828 [==============================] - 1s 1ms/step - loss: 3.3248e-04 - accuracy: 1.0000\n",
      "Epoch 119/200\n",
      "828/828 [==============================] - 1s 1ms/step - loss: 5.9084e-04 - accuracy: 0.9998\n",
      "Epoch 120/200\n",
      "828/828 [==============================] - 1s 1ms/step - loss: 0.0014 - accuracy: 0.9998\n",
      "Epoch 121/200\n",
      "828/828 [==============================] - 1s 1ms/step - loss: 3.7086e-04 - accuracy: 1.0000: 0s - loss: 4.6647e-04 - accu\n",
      "Epoch 122/200\n",
      "828/828 [==============================] - 1s 1ms/step - loss: 1.5767e-04 - accuracy: 1.0000\n",
      "Epoch 123/200\n",
      "828/828 [==============================] - 1s 1ms/step - loss: 6.5066e-04 - accuracy: 0.9998\n",
      "Epoch 124/200\n",
      "828/828 [==============================] - 1s 1ms/step - loss: 7.4038e-04 - accuracy: 0.9998\n",
      "Epoch 125/200\n",
      "828/828 [==============================] - 1s 1ms/step - loss: 3.8596e-04 - accuracy: 1.0000\n",
      "Epoch 126/200\n",
      "828/828 [==============================] - 1s 1ms/step - loss: 7.1708e-04 - accuracy: 0.9998\n",
      "Epoch 127/200\n",
      "828/828 [==============================] - 1s 1ms/step - loss: 9.7754e-04 - accuracy: 0.9995\n",
      "Epoch 128/200\n",
      "828/828 [==============================] - 1s 1ms/step - loss: 2.3058e-04 - accuracy: 1.0000\n",
      "Epoch 129/200\n",
      "828/828 [==============================] - 1s 1ms/step - loss: 3.7821e-04 - accuracy: 1.0000\n",
      "Epoch 130/200\n",
      "640/828 [======================>.......] - ETA: 0s - loss: 4.8895e-04 - accuracy: 0.9997"
     ]
    }
   ],
   "source": [
    "# Create model - 3 layers. First layer 128 neurons, second layer 64 neurons and 3rd output layer contains number of neurons\n",
    "# equal to number of intents to predict output intent with softmax\n",
    "model = Sequential()\n",
    "model.add(Dense(128, input_shape=(len(train_x[0]),), activation='relu'))\n",
    "model.add(Dropout(0.5))\n",
    "model.add(Dense(64, activation='relu'))\n",
    "model.add(Dropout(0.5))\n",
    "model.add(Dense(len(train_y[0]), activation='softmax'))\n",
    "# Compile model. Stochastic gradient descent with Nesterov accelerated gradient gives good results for this model\n",
    "sgd = SGD(lr=0.01, decay=1e-6, momentum=0.9, nesterov=True)\n",
    "model.compile(loss='categorical_crossentropy', optimizer=sgd, metrics=['accuracy'])\n",
    "#fitting and saving the model \n",
    "hist = model.fit(np.array(train_x), np.array(train_y), epochs=200, batch_size=5, verbose=1)\n",
    "model.save('chatbot_model.h5', hist)\n",
    "print(\"model created\")"
   ]
  },
  {
   "cell_type": "markdown",
   "metadata": {},
   "source": [
    "## Step 5: Predict the response (Graphical User Interface)"
   ]
  },
  {
   "cell_type": "code",
   "execution_count": null,
   "metadata": {},
   "outputs": [],
   "source": [
    "import nltk\n",
    "from nltk.stem import WordNetLemmatizer\n",
    "lemmatizer = WordNetLemmatizer()\n",
    "import numpy as np\n",
    "\n",
    "from keras.models import load_model\n",
    "model = load_model('chatbot_model.h5')\n",
    "import json\n",
    "import random\n",
    "intents = json.loads(open('intents.json').read())\n",
    "words = cPickle.load(open('words.pkl','rb'))\n",
    "classes = cPickle.load(open('classes.pkl','rb'))"
   ]
  },
  {
   "cell_type": "code",
   "execution_count": null,
   "metadata": {},
   "outputs": [],
   "source": [
    "def clean_up_sentence(sentence):\n",
    "    # tokenize the pattern - split words into array\n",
    "    sentence_words = nltk.word_tokenize(sentence)\n",
    "    # stem each word - create short form for word\n",
    "    sentence_words = [lemmatizer.lemmatize(word.lower()) for word in sentence_words]\n",
    "    return sentence_words\n",
    "# return bag of words array: 0 or 1 for each word in the bag that exists in the sentence\n",
    "\n",
    "def bow(sentence, words, show_details=True):\n",
    "    # tokenize the pattern\n",
    "    sentence_words = clean_up_sentence(sentence)\n",
    "    # bag of words - matrix of N words, vocabulary matrix\n",
    "    bag = [0]*len(words) \n",
    "    for s in sentence_words:\n",
    "        for i,w in enumerate(words):\n",
    "            if w == s: \n",
    "                # assign 1 if current word is in the vocabulary position\n",
    "                bag[i] = 1\n",
    "                if show_details:\n",
    "                    print (\"found in bag: %s\" % w)\n",
    "    return(np.array(bag))\n",
    "def predict_class(sentence, model):\n",
    "    # filter out predictions below a threshold\n",
    "    p = bow(sentence, words,show_details=False)\n",
    "    res = model.predict(np.array([p]))[0]\n",
    "    ERROR_THRESHOLD = 0.25\n",
    "    results = [[i,r] for i,r in enumerate(res) if r>ERROR_THRESHOLD]\n",
    "    # sort by strength of probability\n",
    "    results.sort(key=lambda x: x[1], reverse=True)\n",
    "    return_list = []\n",
    "    for r in results:\n",
    "        return_list.append({\"intent\": classes[r[0]], \"probability\": str(r[1])})\n",
    "    return return_list"
   ]
  },
  {
   "cell_type": "code",
   "execution_count": null,
   "metadata": {},
   "outputs": [],
   "source": [
    "def getResponse(ints, intents_json):\n",
    "    tag = ints[0]['intent']\n",
    "    list_of_intents = intents_json['intents']\n",
    "    for i in list_of_intents:\n",
    "        if(i['tag']== tag):\n",
    "            result = random.choice(i['responses'])\n",
    "            break\n",
    "    return result\n",
    "def chatbot_response(text):\n",
    "    ints = predict_class(text, model)\n",
    "    res = getResponse(ints, intents)\n",
    "    return res"
   ]
  },
  {
   "cell_type": "code",
   "execution_count": null,
   "metadata": {},
   "outputs": [],
   "source": [
    "#Creating GUI with tkinter\n",
    "import tkinter\n",
    "from tkinter import *"
   ]
  },
  {
   "cell_type": "code",
   "execution_count": null,
   "metadata": {},
   "outputs": [],
   "source": [
    "def send():\n",
    "    msg = EntryBox.get(\"1.0\",'end-1c').strip()\n",
    "    EntryBox.delete(\"0.0\",END)\n",
    "    if msg != '':\n",
    "        ChatLog.config(state=NORMAL)\n",
    "        ChatLog.insert(END, \"Customer: \" + msg + '\\n\\n')\n",
    "        ChatLog.config(foreground=\"#442265\", font=(\"Verdana\", 12 ))\n",
    "        res = chatbot_response(msg)\n",
    "        ChatLog.insert(END, \"LS Virtual Assistant: \" + res + '\\n\\n')\n",
    "        ChatLog.config(state=DISABLED)\n",
    "        ChatLog.yview(END)\n",
    "base = Tk()\n",
    "base.title(\"LS Chatbot\")\n",
    "base.geometry(\"400x500\")\n",
    "base.resizable(width=FALSE, height=FALSE)\n",
    "#Create Chat window\n",
    "ChatLog = Text(base, bd=0, bg=\"white\", height=\"8\", width=\"50\", font=\"Arial\",)\n",
    "ChatLog.config(state=DISABLED)\n",
    "#Bind scrollbar to Chat window\n",
    "scrollbar = Scrollbar(base, command=ChatLog.yview, cursor=\"heart\")\n",
    "ChatLog['yscrollcommand'] = scrollbar.set\n",
    "#Create Button to send message\n",
    "SendButton = Button(base, font=(\"Verdana\",12,'bold'), text=\"Send\", width=\"12\", height=5,\n",
    "                    bd=0, bg=\"#32de97\", activebackground=\"#3c9d9b\",fg='#ffffff',\n",
    "                    command= send )\n",
    "#Create the box to enter message\n",
    "EntryBox = Text(base, bd=0, bg=\"white\",width=\"29\", height=\"5\", font=\"Arial\")\n",
    "EntryBox.bind(\"<Return>\", send)\n",
    "#Place all components on the screen\n",
    "scrollbar.place(x=376,y=6, height=386)\n",
    "ChatLog.place(x=6,y=6, height=386, width=370)\n",
    "EntryBox.place(x=128, y=401, height=90, width=265)\n",
    "SendButton.place(x=6, y=401, height=90)\n",
    "base.mainloop()"
   ]
  }
 ],
 "metadata": {
  "kernelspec": {
   "display_name": "Python 3",
   "language": "python",
   "name": "python3"
  },
  "language_info": {
   "codemirror_mode": {
    "name": "ipython",
    "version": 3
   },
   "file_extension": ".py",
   "mimetype": "text/x-python",
   "name": "python",
   "nbconvert_exporter": "python",
   "pygments_lexer": "ipython3",
   "version": "3.8.5"
  }
 },
 "nbformat": 4,
 "nbformat_minor": 4
}
